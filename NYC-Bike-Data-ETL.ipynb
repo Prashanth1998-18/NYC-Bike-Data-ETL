{
 "cells": [
  {
   "cell_type": "markdown",
   "metadata": {},
   "source": [
    "# Homework 2"
   ]
  },
  {
   "cell_type": "markdown",
   "metadata": {},
   "source": [
    "In this homework you will be working with json data and TinyDB. The overall task is to query the Citibikes NYC server ( https://gbfs.citibikenyc.com/gbfs/en/station_status.json ), store the data in a TinyDB database, and infer activities for the stations. Sample starter code relating to these subtasks was discussed in class.\n",
    "\n",
    "\n",
    "You will be required to query the server at 3 different times of a day (preferably a weekday). Make sure that these times are spread apart by at least a couple of hours. 3 good times may be morning, afternoon, evening. \n",
    "\n",
    "You may query the data, save the results in 3 JSON files on your laptop, load the JSON files, and then insert them into the database. This approach may be easier rather than querying the data live each time you test the code. IMPORTANT: You need to insert one record (for each station) at a time into the database. Do not upload the entire JSON file into the database even if the database allows you to do this. \n",
    "\n",
    "\n",
    "Rename this file as <i>YourfirstinitialLastname.ipynb</i> and insert your code in the appropriate parts. For example, John Doe would name his solution file as <i>JDoe.ipynb</i> . \n",
    "\n",
    "Your database file should be named <i>citibikenyc-YourfirstinitialLastname.json</i> . John Doe's database file would be named <i>citibikenyc-JDoe.json</i> . \n",
    "\n",
    "Your submission should consist of both the ipynb file and the json file. \n",
    "\n",
    "<b>IMPORTANT</b> (1) Make sure that your code is organized, documented, and contains only what is being asked for in the question. (2) This homework requires you to run the code at three different times of a day (preferably a weekday), so make sure that you start the homework early.  "
   ]
  },
  {
   "cell_type": "markdown",
   "metadata": {},
   "source": [
    "## Part I (20 points)\n",
    "Query the Citibikes server and load the JSON data for the stations into a Python list.\n",
    "\n",
    "The JSON data containing information for each station as shown below. Note the field names. The id of the station is stored in a <b>string</b> field named <b>station_id</b>. The legacy id of the station is stored in a <b>string</b> field named <b>legacy_id</b>.\n",
    "\n",
    "{'num_scooters_unavailable': 0,\n",
    " 'last_reported': 1614989202,\n",
    " 'num_docks_disabled': 0,\n",
    " 'station_status': 'active',\n",
    " 'is_returning': 1,\n",
    " 'num_bikes_disabled': 1,\n",
    " 'num_ebikes_available': 0,\n",
    " 'is_renting': 1,\n",
    " 'legacy_id': '3340',\n",
    " 'station_id': '66de11bc-0aca-11e7-82f6-3863bb44ef7c',\n",
    " 'num_docks_available': 1,\n",
    " 'num_scooters_available': 0,\n",
    " 'is_installed': 1,\n",
    " 'eightd_has_available_keys': False,\n",
    " 'num_bikes_available': 19}\n",
    "\n",
    "Load the data for the stations into a Pandas DataFrame and display the first 10 rows. "
   ]
  },
  {
   "cell_type": "code",
   "execution_count": 1,
   "metadata": {},
   "outputs": [],
   "source": [
    "import pandas as pd\n",
    "import requests\n",
    "import json"
   ]
  },
  {
   "cell_type": "markdown",
   "metadata": {},
   "source": [
    "#Query the Citibikes server and load the JSON data for the stations into a Python list.\n",
    "\n",
    "response = requests.get(\"https://gbfs.citibikenyc.com/gbfs/en/station_status.json\")"
   ]
  },
  {
   "cell_type": "markdown",
   "metadata": {},
   "source": [
    "stations1 = json.loads(response.content.decode('utf-8'))['data']['stations']"
   ]
  },
  {
   "cell_type": "markdown",
   "metadata": {},
   "source": [
    "#Read at 11:11 AM\n",
    "with open(\"stations1.json\", \"w\") as write_file:\n",
    "    json.dump(stations1, write_file)"
   ]
  },
  {
   "cell_type": "markdown",
   "metadata": {},
   "source": [
    "stations2 = json.loads(response.content.decode('utf-8'))['data']['stations']"
   ]
  },
  {
   "cell_type": "markdown",
   "metadata": {},
   "source": [
    "#Read at 3:13PM\n",
    "with open(\"stations2.json\", \"w\") as write_file:\n",
    "    json.dump(stations2, write_file)"
   ]
  },
  {
   "cell_type": "markdown",
   "metadata": {},
   "source": [
    "stations3 = json.loads(response.content.decode('utf-8'))['data']['stations']"
   ]
  },
  {
   "cell_type": "markdown",
   "metadata": {},
   "source": [
    "#Read at 7:39PM\n",
    "with open(\"stations3.json\", \"w\") as write_file:\n",
    "    json.dump(stations3, write_file)"
   ]
  },
  {
   "cell_type": "code",
   "execution_count": 2,
   "metadata": {},
   "outputs": [],
   "source": [
    "#Load the data for the stations into a Pandas DataFrame and display the first 10 rows.\n",
    "with open('stations1.json', 'r') as f:\n",
    "    data = json.load(f)"
   ]
  },
  {
   "cell_type": "code",
   "execution_count": 3,
   "metadata": {},
   "outputs": [],
   "source": [
    "stations_df = pd.DataFrame(data)"
   ]
  },
  {
   "cell_type": "code",
   "execution_count": 4,
   "metadata": {},
   "outputs": [
    {
     "data": {
      "text/html": [
       "<div>\n",
       "<style scoped>\n",
       "    .dataframe tbody tr th:only-of-type {\n",
       "        vertical-align: middle;\n",
       "    }\n",
       "\n",
       "    .dataframe tbody tr th {\n",
       "        vertical-align: top;\n",
       "    }\n",
       "\n",
       "    .dataframe thead th {\n",
       "        text-align: right;\n",
       "    }\n",
       "</style>\n",
       "<table border=\"1\" class=\"dataframe\">\n",
       "  <thead>\n",
       "    <tr style=\"text-align: right;\">\n",
       "      <th></th>\n",
       "      <th>eightd_has_available_keys</th>\n",
       "      <th>is_renting</th>\n",
       "      <th>num_bikes_available</th>\n",
       "      <th>is_returning</th>\n",
       "      <th>station_status</th>\n",
       "      <th>station_id</th>\n",
       "      <th>is_installed</th>\n",
       "      <th>num_scooters_unavailable</th>\n",
       "      <th>num_scooters_available</th>\n",
       "      <th>num_docks_available</th>\n",
       "      <th>num_docks_disabled</th>\n",
       "      <th>num_ebikes_available</th>\n",
       "      <th>last_reported</th>\n",
       "      <th>num_bikes_disabled</th>\n",
       "      <th>legacy_id</th>\n",
       "      <th>eightd_active_station_services</th>\n",
       "      <th>valet</th>\n",
       "    </tr>\n",
       "  </thead>\n",
       "  <tbody>\n",
       "    <tr>\n",
       "      <th>0</th>\n",
       "      <td>False</td>\n",
       "      <td>1</td>\n",
       "      <td>24</td>\n",
       "      <td>1</td>\n",
       "      <td>active</td>\n",
       "      <td>66de5005-0aca-11e7-82f6-3863bb44ef7c</td>\n",
       "      <td>1</td>\n",
       "      <td>0.0</td>\n",
       "      <td>0.0</td>\n",
       "      <td>3</td>\n",
       "      <td>0</td>\n",
       "      <td>0</td>\n",
       "      <td>1678291151</td>\n",
       "      <td>0</td>\n",
       "      <td>3404</td>\n",
       "      <td>NaN</td>\n",
       "      <td>NaN</td>\n",
       "    </tr>\n",
       "    <tr>\n",
       "      <th>1</th>\n",
       "      <td>False</td>\n",
       "      <td>1</td>\n",
       "      <td>5</td>\n",
       "      <td>1</td>\n",
       "      <td>active</td>\n",
       "      <td>a2ef8ed2-6031-4049-b7dc-9838ef39889b</td>\n",
       "      <td>1</td>\n",
       "      <td>0.0</td>\n",
       "      <td>0.0</td>\n",
       "      <td>13</td>\n",
       "      <td>0</td>\n",
       "      <td>0</td>\n",
       "      <td>1678291152</td>\n",
       "      <td>1</td>\n",
       "      <td>4202</td>\n",
       "      <td>NaN</td>\n",
       "      <td>NaN</td>\n",
       "    </tr>\n",
       "    <tr>\n",
       "      <th>2</th>\n",
       "      <td>False</td>\n",
       "      <td>1</td>\n",
       "      <td>0</td>\n",
       "      <td>1</td>\n",
       "      <td>active</td>\n",
       "      <td>66de17f7-0aca-11e7-82f6-3863bb44ef7c</td>\n",
       "      <td>1</td>\n",
       "      <td>0.0</td>\n",
       "      <td>0.0</td>\n",
       "      <td>38</td>\n",
       "      <td>0</td>\n",
       "      <td>0</td>\n",
       "      <td>1678291145</td>\n",
       "      <td>1</td>\n",
       "      <td>3350</td>\n",
       "      <td>NaN</td>\n",
       "      <td>NaN</td>\n",
       "    </tr>\n",
       "    <tr>\n",
       "      <th>3</th>\n",
       "      <td>False</td>\n",
       "      <td>1</td>\n",
       "      <td>3</td>\n",
       "      <td>1</td>\n",
       "      <td>active</td>\n",
       "      <td>e9575102-1081-4c30-8d15-ea95913579e2</td>\n",
       "      <td>1</td>\n",
       "      <td>0.0</td>\n",
       "      <td>0.0</td>\n",
       "      <td>18</td>\n",
       "      <td>0</td>\n",
       "      <td>0</td>\n",
       "      <td>1678291152</td>\n",
       "      <td>0</td>\n",
       "      <td>e9575102-1081-4c30-8d15-ea95913579e2</td>\n",
       "      <td>NaN</td>\n",
       "      <td>NaN</td>\n",
       "    </tr>\n",
       "    <tr>\n",
       "      <th>4</th>\n",
       "      <td>False</td>\n",
       "      <td>1</td>\n",
       "      <td>2</td>\n",
       "      <td>1</td>\n",
       "      <td>active</td>\n",
       "      <td>66de0861-0aca-11e7-82f6-3863bb44ef7c</td>\n",
       "      <td>1</td>\n",
       "      <td>0.0</td>\n",
       "      <td>0.0</td>\n",
       "      <td>28</td>\n",
       "      <td>0</td>\n",
       "      <td>1</td>\n",
       "      <td>1678291159</td>\n",
       "      <td>1</td>\n",
       "      <td>3325</td>\n",
       "      <td>NaN</td>\n",
       "      <td>NaN</td>\n",
       "    </tr>\n",
       "    <tr>\n",
       "      <th>5</th>\n",
       "      <td>False</td>\n",
       "      <td>1</td>\n",
       "      <td>1</td>\n",
       "      <td>1</td>\n",
       "      <td>active</td>\n",
       "      <td>595cf79f-7783-4373-b3d5-775bcf76033b</td>\n",
       "      <td>1</td>\n",
       "      <td>0.0</td>\n",
       "      <td>0.0</td>\n",
       "      <td>16</td>\n",
       "      <td>0</td>\n",
       "      <td>0</td>\n",
       "      <td>1678291157</td>\n",
       "      <td>2</td>\n",
       "      <td>4127</td>\n",
       "      <td>NaN</td>\n",
       "      <td>NaN</td>\n",
       "    </tr>\n",
       "    <tr>\n",
       "      <th>6</th>\n",
       "      <td>False</td>\n",
       "      <td>1</td>\n",
       "      <td>21</td>\n",
       "      <td>1</td>\n",
       "      <td>active</td>\n",
       "      <td>3f05490b-a3d8-4d15-bd25-0212555b5dff</td>\n",
       "      <td>1</td>\n",
       "      <td>0.0</td>\n",
       "      <td>0.0</td>\n",
       "      <td>2</td>\n",
       "      <td>0</td>\n",
       "      <td>0</td>\n",
       "      <td>1678291160</td>\n",
       "      <td>0</td>\n",
       "      <td>4358</td>\n",
       "      <td>NaN</td>\n",
       "      <td>NaN</td>\n",
       "    </tr>\n",
       "    <tr>\n",
       "      <th>7</th>\n",
       "      <td>False</td>\n",
       "      <td>1</td>\n",
       "      <td>0</td>\n",
       "      <td>1</td>\n",
       "      <td>active</td>\n",
       "      <td>66dbc37a-0aca-11e7-82f6-3863bb44ef7c</td>\n",
       "      <td>1</td>\n",
       "      <td>0.0</td>\n",
       "      <td>0.0</td>\n",
       "      <td>55</td>\n",
       "      <td>0</td>\n",
       "      <td>0</td>\n",
       "      <td>1678291190</td>\n",
       "      <td>4</td>\n",
       "      <td>349</td>\n",
       "      <td>NaN</td>\n",
       "      <td>NaN</td>\n",
       "    </tr>\n",
       "    <tr>\n",
       "      <th>8</th>\n",
       "      <td>False</td>\n",
       "      <td>1</td>\n",
       "      <td>2</td>\n",
       "      <td>1</td>\n",
       "      <td>active</td>\n",
       "      <td>0ddb965d-95ef-4ce3-bde6-81a56ac1fbd2</td>\n",
       "      <td>1</td>\n",
       "      <td>0.0</td>\n",
       "      <td>0.0</td>\n",
       "      <td>17</td>\n",
       "      <td>12</td>\n",
       "      <td>0</td>\n",
       "      <td>1678291190</td>\n",
       "      <td>0</td>\n",
       "      <td>3959</td>\n",
       "      <td>NaN</td>\n",
       "      <td>NaN</td>\n",
       "    </tr>\n",
       "    <tr>\n",
       "      <th>9</th>\n",
       "      <td>False</td>\n",
       "      <td>1</td>\n",
       "      <td>0</td>\n",
       "      <td>1</td>\n",
       "      <td>active</td>\n",
       "      <td>cbf76774-1276-4cf8-9442-f00571f1451c</td>\n",
       "      <td>1</td>\n",
       "      <td>0.0</td>\n",
       "      <td>0.0</td>\n",
       "      <td>32</td>\n",
       "      <td>0</td>\n",
       "      <td>0</td>\n",
       "      <td>1678291197</td>\n",
       "      <td>1</td>\n",
       "      <td>4225</td>\n",
       "      <td>NaN</td>\n",
       "      <td>NaN</td>\n",
       "    </tr>\n",
       "  </tbody>\n",
       "</table>\n",
       "</div>"
      ],
      "text/plain": [
       "   eightd_has_available_keys  is_renting  num_bikes_available  is_returning  \\\n",
       "0                      False           1                   24             1   \n",
       "1                      False           1                    5             1   \n",
       "2                      False           1                    0             1   \n",
       "3                      False           1                    3             1   \n",
       "4                      False           1                    2             1   \n",
       "5                      False           1                    1             1   \n",
       "6                      False           1                   21             1   \n",
       "7                      False           1                    0             1   \n",
       "8                      False           1                    2             1   \n",
       "9                      False           1                    0             1   \n",
       "\n",
       "  station_status                            station_id  is_installed  \\\n",
       "0         active  66de5005-0aca-11e7-82f6-3863bb44ef7c             1   \n",
       "1         active  a2ef8ed2-6031-4049-b7dc-9838ef39889b             1   \n",
       "2         active  66de17f7-0aca-11e7-82f6-3863bb44ef7c             1   \n",
       "3         active  e9575102-1081-4c30-8d15-ea95913579e2             1   \n",
       "4         active  66de0861-0aca-11e7-82f6-3863bb44ef7c             1   \n",
       "5         active  595cf79f-7783-4373-b3d5-775bcf76033b             1   \n",
       "6         active  3f05490b-a3d8-4d15-bd25-0212555b5dff             1   \n",
       "7         active  66dbc37a-0aca-11e7-82f6-3863bb44ef7c             1   \n",
       "8         active  0ddb965d-95ef-4ce3-bde6-81a56ac1fbd2             1   \n",
       "9         active  cbf76774-1276-4cf8-9442-f00571f1451c             1   \n",
       "\n",
       "   num_scooters_unavailable  num_scooters_available  num_docks_available  \\\n",
       "0                       0.0                     0.0                    3   \n",
       "1                       0.0                     0.0                   13   \n",
       "2                       0.0                     0.0                   38   \n",
       "3                       0.0                     0.0                   18   \n",
       "4                       0.0                     0.0                   28   \n",
       "5                       0.0                     0.0                   16   \n",
       "6                       0.0                     0.0                    2   \n",
       "7                       0.0                     0.0                   55   \n",
       "8                       0.0                     0.0                   17   \n",
       "9                       0.0                     0.0                   32   \n",
       "\n",
       "   num_docks_disabled  num_ebikes_available  last_reported  \\\n",
       "0                   0                     0     1678291151   \n",
       "1                   0                     0     1678291152   \n",
       "2                   0                     0     1678291145   \n",
       "3                   0                     0     1678291152   \n",
       "4                   0                     1     1678291159   \n",
       "5                   0                     0     1678291157   \n",
       "6                   0                     0     1678291160   \n",
       "7                   0                     0     1678291190   \n",
       "8                  12                     0     1678291190   \n",
       "9                   0                     0     1678291197   \n",
       "\n",
       "   num_bikes_disabled                             legacy_id  \\\n",
       "0                   0                                  3404   \n",
       "1                   1                                  4202   \n",
       "2                   1                                  3350   \n",
       "3                   0  e9575102-1081-4c30-8d15-ea95913579e2   \n",
       "4                   1                                  3325   \n",
       "5                   2                                  4127   \n",
       "6                   0                                  4358   \n",
       "7                   4                                   349   \n",
       "8                   0                                  3959   \n",
       "9                   1                                  4225   \n",
       "\n",
       "  eightd_active_station_services valet  \n",
       "0                            NaN   NaN  \n",
       "1                            NaN   NaN  \n",
       "2                            NaN   NaN  \n",
       "3                            NaN   NaN  \n",
       "4                            NaN   NaN  \n",
       "5                            NaN   NaN  \n",
       "6                            NaN   NaN  \n",
       "7                            NaN   NaN  \n",
       "8                            NaN   NaN  \n",
       "9                            NaN   NaN  "
      ]
     },
     "execution_count": 4,
     "metadata": {},
     "output_type": "execute_result"
    }
   ],
   "source": [
    "stations_df.head(10)"
   ]
  },
  {
   "cell_type": "markdown",
   "metadata": {},
   "source": [
    "## Part II (20 points)\n",
    "\n",
    "Save your data into a TinyDB database with the following modifications: \n",
    "\n",
    "<i>num_bikes_available</i> and <i>last_reported</i> should both be lists of their singleton values. For example, the earlier record would look like the following in the database: \n",
    "\n",
    "{'num_scooters_unavailable': 0,\n",
    " <b>'last_reported': [1614989202]</b>,\n",
    " 'num_docks_disabled': 0,\n",
    " 'station_status': 'active',\n",
    " 'is_returning': 1,\n",
    " 'num_bikes_disabled': 1,\n",
    " 'num_ebikes_available': 0,\n",
    " 'is_renting': 1,\n",
    " 'legacy_id': '3340',\n",
    " 'station_id': '66de11bc-0aca-11e7-82f6-3863bb44ef7c',\n",
    " 'num_docks_available': 1,\n",
    " 'num_scooters_available': 0,\n",
    " 'is_installed': 1,\n",
    " 'eightd_has_available_keys': False,\n",
    " <b>'num_bikes_available': [19]</b>}\n",
    "\n",
    "(The last_reported field is in Epoch time, a common way of expressing timestamps in datastores. Try to understand what this time means through an internet search.) \n",
    "\n",
    "Query your database for two different station ids and show the results of your query. The results should look similar to the record above."
   ]
  },
  {
   "cell_type": "code",
   "execution_count": 5,
   "metadata": {},
   "outputs": [],
   "source": [
    "from tinydb import TinyDB, Query, table"
   ]
  },
  {
   "cell_type": "code",
   "execution_count": 6,
   "metadata": {},
   "outputs": [],
   "source": [
    "#Save your data into a TinyDB database with the following modifications:\n",
    "#num_bikes_available and last_reported should both be lists of their singleton values.\n",
    "\n",
    "#Creating the DB\n",
    "db = TinyDB('Station.json')"
   ]
  },
  {
   "cell_type": "code",
   "execution_count": 7,
   "metadata": {},
   "outputs": [],
   "source": [
    "#Converting the singleton values to a list.\n",
    "for station in data:\n",
    "    station['num_bikes_available'] = [station['num_bikes_available']]\n",
    "    station['last_reported'] = [station['last_reported']]"
   ]
  },
  {
   "cell_type": "code",
   "execution_count": 11,
   "metadata": {},
   "outputs": [],
   "source": [
    "#Inserting the data into the DB.\n",
    "for st in data:\n",
    "    db.insert(st)"
   ]
  },
  {
   "cell_type": "code",
   "execution_count": 12,
   "metadata": {},
   "outputs": [
    {
     "name": "stdout",
     "output_type": "stream",
     "text": [
      "[{'eightd_has_available_keys': False, 'is_renting': 1, 'num_bikes_available': [24], 'is_returning': 1, 'station_status': 'active', 'station_id': '66de5005-0aca-11e7-82f6-3863bb44ef7c', 'is_installed': 1, 'num_scooters_unavailable': 0, 'num_scooters_available': 0, 'num_docks_available': 3, 'num_docks_disabled': 0, 'num_ebikes_available': 0, 'last_reported': [1678291151], 'num_bikes_disabled': 0, 'legacy_id': '3404'}, {'eightd_has_available_keys': False, 'is_renting': 1, 'num_bikes_available': [0], 'is_returning': 1, 'station_status': 'active', 'station_id': '66dbc37a-0aca-11e7-82f6-3863bb44ef7c', 'is_installed': 1, 'num_scooters_unavailable': 0, 'num_scooters_available': 0, 'num_docks_available': 55, 'num_docks_disabled': 0, 'num_ebikes_available': 0, 'last_reported': [1678291190], 'num_bikes_disabled': 4, 'legacy_id': '349'}]\n"
     ]
    }
   ],
   "source": [
    "#Query your database for two different station ids and show the results of your query.\n",
    "\n",
    "q = Query()\n",
    "result = db.search(q.legacy_id.one_of(['349','3404']))\n",
    "print(result)"
   ]
  },
  {
   "cell_type": "markdown",
   "metadata": {},
   "source": [
    "## Part III (20 points)\n",
    "\n",
    "Query the server at least two additional times on the same day as Part I to collect two additional datasets. Make sure that these times are spread apart by at least a couple of hours. You could, for example, query in the morning for Part I and in the afternoon and evening for this part. \n",
    "\n",
    "(You may query for all the data on a single day, save the results in 3 JSON files and load the JSON files as JSON Objects and then insert them into the database. This approach may be easier rather than querying the data live each time you test the code.)\n",
    "\n",
    "Merge the collected data for the fields <i>num_bikes_available</i> and <i>last_reported</i> for each station into the database by appending to the appropriate lists in the database. Note that this operation may take a while to complete. \n",
    "\n",
    "IMPORTANT: Define a function that you will invoke twice to add the 2 sets of data.\n",
    "\n",
    "The data for a station may look like the following after the merge:\n",
    "\n",
    "{'num_scooters_unavailable': 0,\n",
    " 'last_reported': <b>'last_reported': [1614989202, 1614990202, 1614991805]</b>,\n",
    " 'num_docks_disabled': 0,\n",
    " 'station_status': 'active',\n",
    " 'is_returning': 1,\n",
    " 'num_bikes_disabled': 1,\n",
    " 'num_ebikes_available': 0,\n",
    " 'is_renting': 1,\n",
    " 'legacy_id': '3340',\n",
    " 'station_id': '66de11bc-0aca-11e7-82f6-3863bb44ef7c',\n",
    " 'num_docks_available': 1,\n",
    " 'num_scooters_available': 0,\n",
    " 'is_installed': 1,\n",
    " 'eightd_has_available_keys': False,\n",
    " <b>'num_bikes_available': [19, 16, 20]</b>}\n",
    "\n",
    "\n",
    "Note: It is possible, but not highly likely, that a station may be added or deleted between different queries. You may get some errors if this happens. It is good to guard against this event. \n",
    "\n",
    "Query your database for the same station ids as in Part II and show the results."
   ]
  },
  {
   "cell_type": "code",
   "execution_count": 13,
   "metadata": {},
   "outputs": [],
   "source": [
    "#Opening the Afternoon Data\n",
    "with open('stations2.json', 'r') as f:\n",
    "    data1 = json.load(f)\n",
    "#Opening the Evening Data\n",
    "with open('stations3.json', 'r') as f:\n",
    "    data2 = json.load(f)"
   ]
  },
  {
   "cell_type": "code",
   "execution_count": 14,
   "metadata": {},
   "outputs": [],
   "source": [
    "#Converting the singleton values to list in afternoon data\n",
    "for station in data1:\n",
    "    station['num_bikes_available'] = [station['num_bikes_available']]\n",
    "    station['last_reported'] = [station['last_reported']]"
   ]
  },
  {
   "cell_type": "code",
   "execution_count": 15,
   "metadata": {},
   "outputs": [],
   "source": [
    "#Converting the singleton values to list in evening data\n",
    "for station in data2:\n",
    "    station['num_bikes_available'] = [station['num_bikes_available']]\n",
    "    station['last_reported'] = [station['last_reported']]"
   ]
  },
  {
   "cell_type": "code",
   "execution_count": 16,
   "metadata": {},
   "outputs": [],
   "source": [
    "#Merge the collected data for the fields num_bikes_available and last_reported for each station into the database \n",
    "#by appending to the appropriate lists in the database. Note that this operation may take a while to complete.\n",
    "#IMPORTANT: Define a function that you will invoke twice to add the 2 sets of data.\n",
    "\n",
    "\n",
    "def datainsert(data):\n",
    "        for station in data:\n",
    "            result = db.search(q.legacy_id == station.get('legacy_id'))\n",
    "        \n",
    "            if len(result) == 0 :\n",
    "                db.insert(station) #Inserting the station if there exists no station with same legacy_id previously in the DB.\n",
    "            else:\n",
    "                existing_station = result[0]\n",
    "                existing_bikes_values = existing_station.get('num_bikes_available')#Extracting the existing values in the DB.\n",
    "                new_bikes_values = station.get('num_bikes_available') #Extracting the new values from the new JSON\n",
    "                existing_bikes_values.extend(new_bikes_values)#Appending it to the existing values in DB.\n",
    "                existing_reported_values = existing_station.get('last_reported') #Similar to above\n",
    "                new_reported_values = station.get('last_reported')\n",
    "                existing_reported_values.extend(new_reported_values)\n",
    "                #Updating the existing list with new appended lists.\n",
    "                db.upsert({'num_bikes_available':existing_bikes_values,'last_reported':existing_reported_values},q.legacy_id==existing_station.get('legacy_id'))"
   ]
  },
  {
   "cell_type": "code",
   "execution_count": 17,
   "metadata": {},
   "outputs": [],
   "source": [
    "datainsert(data1)#Calling the function with afternoon data"
   ]
  },
  {
   "cell_type": "code",
   "execution_count": 18,
   "metadata": {},
   "outputs": [],
   "source": [
    "datainsert(data2)#Calling the function with evening data"
   ]
  },
  {
   "cell_type": "code",
   "execution_count": 19,
   "metadata": {},
   "outputs": [
    {
     "name": "stdout",
     "output_type": "stream",
     "text": [
      "[{'eightd_has_available_keys': False, 'is_renting': 1, 'num_bikes_available': [24, 26, 27], 'is_returning': 1, 'station_status': 'active', 'station_id': '66de5005-0aca-11e7-82f6-3863bb44ef7c', 'is_installed': 1, 'num_scooters_unavailable': 0, 'num_scooters_available': 0, 'num_docks_available': 3, 'num_docks_disabled': 0, 'num_ebikes_available': 0, 'last_reported': [1678291151, 1678306403, 1678322252], 'num_bikes_disabled': 0, 'legacy_id': '3404'}, {'eightd_has_available_keys': False, 'is_renting': 1, 'num_bikes_available': [0, 9, 13], 'is_returning': 1, 'station_status': 'active', 'station_id': '66dbc37a-0aca-11e7-82f6-3863bb44ef7c', 'is_installed': 1, 'num_scooters_unavailable': 0, 'num_scooters_available': 0, 'num_docks_available': 55, 'num_docks_disabled': 0, 'num_ebikes_available': 0, 'last_reported': [1678291190, 1678306375, 1678322335], 'num_bikes_disabled': 4, 'legacy_id': '349'}]\n"
     ]
    }
   ],
   "source": [
    "#Query your database for the same station ids as in Part II and show the results.\n",
    "\n",
    "print(db.search(q.legacy_id.one_of(['349','3404'])))"
   ]
  },
  {
   "cell_type": "markdown",
   "metadata": {},
   "source": [
    "## Part IV (20 points)\n",
    "\n",
    "Insert an additional field named <i>activity</i> into the record for each station in the database. The value for this field should capture the absolute difference between the number of available bikes for each successive pair of queries to the citibikenyc server. For example, the record for station with legacy_id 3340 would look like the following: \n",
    "\n",
    "{'num_scooters_unavailable': 0,\n",
    " 'last_reported': <b>'last_reported': [1614989202, 1614990202, 1614991805]</b>,\n",
    " 'num_docks_disabled': 0,\n",
    " 'station_status': 'active',\n",
    " 'is_returning': 1,\n",
    " 'num_bikes_disabled': 1,\n",
    " 'num_ebikes_available': 0,\n",
    " 'is_renting': 1,\n",
    " 'legacy_id': '3340',\n",
    " 'station_id': '66de11bc-0aca-11e7-82f6-3863bb44ef7c',\n",
    " 'num_docks_available': 1,\n",
    " 'num_scooters_available': 0,\n",
    " 'is_installed': 1,\n",
    " 'eightd_has_available_keys': False,\n",
    " <b>'num_bikes_available': [19, 16, 20]</b>, <b>'activity': [3, 4]</b>}\n",
    " \n",
    "\n",
    "Note: The activity field is capturing the number of bikes rented out/returned in the two time intervals between the three queries to the citibikenyc server. \n",
    "\n",
    "\n",
    "Query your database for the same station ids as in Part III and IV and show the results."
   ]
  },
  {
   "cell_type": "code",
   "execution_count": 20,
   "metadata": {},
   "outputs": [],
   "source": [
    "temp_data = db.all()"
   ]
  },
  {
   "cell_type": "code",
   "execution_count": 21,
   "metadata": {},
   "outputs": [],
   "source": [
    "#Insert an additional field named activity into the record for each station in the database. \n",
    "#The value for this field should capture the absolute difference between the number of available bikes \n",
    "#for each successive pair of queries to the citibikenyc server.\n",
    "\n",
    "for station in temp_data:\n",
    "    value1 = abs(station.get('num_bikes_available')[0] - station.get('num_bikes_available')[1]) #Getting the absolute difference of number of available bikes\n",
    "    value2 = abs(station.get('num_bikes_available')[1] - station.get('num_bikes_available')[2])\n",
    "    station['activity'] = [value1,value2] #Adding the key-value pair activity along with list as value to the station JSON object.\n",
    "    db.update(station,q.legacy_id == station.get('legacy_id')) #Updating each station with new record called activity"
   ]
  },
  {
   "cell_type": "code",
   "execution_count": 22,
   "metadata": {},
   "outputs": [
    {
     "name": "stdout",
     "output_type": "stream",
     "text": [
      "[{'eightd_has_available_keys': False, 'is_renting': 1, 'num_bikes_available': [24, 26, 27], 'is_returning': 1, 'station_status': 'active', 'station_id': '66de5005-0aca-11e7-82f6-3863bb44ef7c', 'is_installed': 1, 'num_scooters_unavailable': 0, 'num_scooters_available': 0, 'num_docks_available': 3, 'num_docks_disabled': 0, 'num_ebikes_available': 0, 'last_reported': [1678291151, 1678306403, 1678322252], 'num_bikes_disabled': 0, 'legacy_id': '3404', 'activity': [2, 1]}, {'eightd_has_available_keys': False, 'is_renting': 1, 'num_bikes_available': [0, 9, 13], 'is_returning': 1, 'station_status': 'active', 'station_id': '66dbc37a-0aca-11e7-82f6-3863bb44ef7c', 'is_installed': 1, 'num_scooters_unavailable': 0, 'num_scooters_available': 0, 'num_docks_available': 55, 'num_docks_disabled': 0, 'num_ebikes_available': 0, 'last_reported': [1678291190, 1678306375, 1678322335], 'num_bikes_disabled': 4, 'legacy_id': '349', 'activity': [9, 4]}]\n"
     ]
    }
   ],
   "source": [
    "#Query your database for the same station ids as in Part III and IV and show the results.\n",
    "\n",
    "print(db.search(q.legacy_id.one_of(['349','3404'])))"
   ]
  },
  {
   "cell_type": "markdown",
   "metadata": {},
   "source": [
    "## Part V (20 points)¶\n",
    "\n",
    "Query your database to compute the number of stations with high activity (>=20) and low activity (<=5) in each of the two time intervals. Display your results. They may look like the following (the actual numbers may differ):\n",
    "\n",
    "High Activity Stations [10, 29]\n",
    "\n",
    "Low Activity Stations [205, 308]\n",
    "\n",
    "There will be 4 counts in total. A station with activity [25, 3] will contribute towards the count for High Activity Stations in the first interval and contribute towards the count for the Low Activity Stations in the second interval. Note that general form of the matrix for the result is as follows:\n",
    "\n",
    "High Activity Stations [x1, x2]\n",
    "\n",
    "Low Activity Stations [y1, y2]\n",
    "\n",
    "x1 and y1 are the counts for the first interval and x2 and y2 are the counts for the second interval. \n",
    "\n",
    "The station in the example above (activity [25,3]) will contribute to the value of x1 and y2. \n",
    "\n",
    " If there are just two stations with activity [25,3] and [30, 25], the results would be\n",
    "\n",
    "          High Activity Stations [2, 1]\n",
    "          Low Activity Stations [0, 1]"
   ]
  },
  {
   "cell_type": "code",
   "execution_count": 23,
   "metadata": {},
   "outputs": [
    {
     "name": "stdout",
     "output_type": "stream",
     "text": [
      "[5, 90]\n",
      "[1714, 1453]\n"
     ]
    }
   ],
   "source": [
    "#Query your database to compute the number of stations with high activity (>=20) and low activity (<=5) \n",
    "#in each of the two time intervals.\n",
    "\n",
    "high_1=0\n",
    "high_2=0\n",
    "low_1=0\n",
    "low_2=0\n",
    "for station in temp_data:\n",
    "    activity1 = station.get('activity')[0]\n",
    "    if(activity1 >= 20):\n",
    "        high_1+=1\n",
    "    elif activity1 <= 5:\n",
    "        low_1+=1\n",
    "    activity2 = station.get('activity')[1]\n",
    "    if activity2 >= 20:\n",
    "        high_2+=1\n",
    "    elif activity2 <= 5:\n",
    "        low_2+=1       \n",
    "High_Activity_Stations = [high_1,high_2]\n",
    "Low_Activity_Stations=[low_1,low_2]\n",
    "\n",
    "print(High_Activity_Stations)\n",
    "print(Low_Activity_Stations)"
   ]
  }
 ],
 "metadata": {
  "kernelspec": {
   "display_name": "Python 3 (ipykernel)",
   "language": "python",
   "name": "python3"
  },
  "language_info": {
   "codemirror_mode": {
    "name": "ipython",
    "version": 3
   },
   "file_extension": ".py",
   "mimetype": "text/x-python",
   "name": "python",
   "nbconvert_exporter": "python",
   "pygments_lexer": "ipython3",
   "version": "3.9.12"
  },
  "toc": {
   "base_numbering": 1,
   "nav_menu": {},
   "number_sections": true,
   "sideBar": true,
   "skip_h1_title": false,
   "title_cell": "Table of Contents",
   "title_sidebar": "Contents",
   "toc_cell": false,
   "toc_position": {},
   "toc_section_display": true,
   "toc_window_display": false
  }
 },
 "nbformat": 4,
 "nbformat_minor": 1
}
